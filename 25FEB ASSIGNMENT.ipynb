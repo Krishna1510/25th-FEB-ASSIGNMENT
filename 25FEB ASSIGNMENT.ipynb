{
 "cells": [
  {
   "cell_type": "markdown",
   "id": "b25910a7-5db7-4140-a16a-ca6c9f75b879",
   "metadata": {},
   "source": [
    "# ANSWERS "
   ]
  },
  {
   "cell_type": "markdown",
   "id": "b6d87129-9070-421a-9d55-de1e3aecbe9b",
   "metadata": {},
   "source": [
    "### ANS 1"
   ]
  },
  {
   "cell_type": "code",
   "execution_count": 2,
   "id": "69777221-f6fd-4614-971c-15fde6401e03",
   "metadata": {},
   "outputs": [],
   "source": [
    "import pandas as pd\n",
    "\n",
    "course_name = ['Data Science', 'Machine Learning', 'Big Data', 'Data Engineer']\n",
    "\n",
    "duration = [2,3,6,4]\n",
    "\n",
    "df = pd.DataFrame(data = {'course_name' : course_name, 'duration' : duration})"
   ]
  },
  {
   "cell_type": "code",
   "execution_count": 3,
   "id": "3cac9231-1aa1-4d7a-a9f7-6ac389159954",
   "metadata": {},
   "outputs": [
    {
     "data": {
      "text/html": [
       "<div>\n",
       "<style scoped>\n",
       "    .dataframe tbody tr th:only-of-type {\n",
       "        vertical-align: middle;\n",
       "    }\n",
       "\n",
       "    .dataframe tbody tr th {\n",
       "        vertical-align: top;\n",
       "    }\n",
       "\n",
       "    .dataframe thead th {\n",
       "        text-align: right;\n",
       "    }\n",
       "</style>\n",
       "<table border=\"1\" class=\"dataframe\">\n",
       "  <thead>\n",
       "    <tr style=\"text-align: right;\">\n",
       "      <th></th>\n",
       "      <th>course_name</th>\n",
       "      <th>duration</th>\n",
       "    </tr>\n",
       "  </thead>\n",
       "  <tbody>\n",
       "    <tr>\n",
       "      <th>0</th>\n",
       "      <td>Data Science</td>\n",
       "      <td>2</td>\n",
       "    </tr>\n",
       "    <tr>\n",
       "      <th>1</th>\n",
       "      <td>Machine Learning</td>\n",
       "      <td>3</td>\n",
       "    </tr>\n",
       "    <tr>\n",
       "      <th>2</th>\n",
       "      <td>Big Data</td>\n",
       "      <td>6</td>\n",
       "    </tr>\n",
       "    <tr>\n",
       "      <th>3</th>\n",
       "      <td>Data Engineer</td>\n",
       "      <td>4</td>\n",
       "    </tr>\n",
       "  </tbody>\n",
       "</table>\n",
       "</div>"
      ],
      "text/plain": [
       "        course_name  duration\n",
       "0      Data Science         2\n",
       "1  Machine Learning         3\n",
       "2          Big Data         6\n",
       "3     Data Engineer         4"
      ]
     },
     "execution_count": 3,
     "metadata": {},
     "output_type": "execute_result"
    }
   ],
   "source": [
    "df"
   ]
  },
  {
   "cell_type": "code",
   "execution_count": 6,
   "id": "25f2b7df-177d-4106-9867-1a286bed037b",
   "metadata": {},
   "outputs": [
    {
     "data": {
      "text/plain": [
       "0    2\n",
       "1    3\n",
       "2    6\n",
       "3    4\n",
       "Name: duration, dtype: int64"
      ]
     },
     "execution_count": 6,
     "metadata": {},
     "output_type": "execute_result"
    }
   ],
   "source": [
    "df['duration']"
   ]
  },
  {
   "cell_type": "markdown",
   "id": "c4c1beb6-0103-4da6-9920-d63a19ef91a8",
   "metadata": {},
   "source": [
    "### ANS 2\n",
    "\n",
    "Loc and iloc are two functions in Pandas that are used to slice a data set in a Pandas DataFrame. The function \n",
    ".loc is typically used for label indexing and can access multiple columns, while .iloc is used for integer indexing"
   ]
  },
  {
   "cell_type": "markdown",
   "id": "54b3f236-9a10-4ea4-8dcb-15d75eb8add4",
   "metadata": {},
   "source": [
    "### ANS 3"
   ]
  },
  {
   "cell_type": "code",
   "execution_count": 8,
   "id": "58283dbe-cee0-4360-8c3c-04c41431f9ac",
   "metadata": {},
   "outputs": [
    {
     "data": {
      "text/html": [
       "<div>\n",
       "<style scoped>\n",
       "    .dataframe tbody tr th:only-of-type {\n",
       "        vertical-align: middle;\n",
       "    }\n",
       "\n",
       "    .dataframe tbody tr th {\n",
       "        vertical-align: top;\n",
       "    }\n",
       "\n",
       "    .dataframe thead th {\n",
       "        text-align: right;\n",
       "    }\n",
       "</style>\n",
       "<table border=\"1\" class=\"dataframe\">\n",
       "  <thead>\n",
       "    <tr style=\"text-align: right;\">\n",
       "      <th></th>\n",
       "      <th>course_name</th>\n",
       "      <th>duration</th>\n",
       "    </tr>\n",
       "  </thead>\n",
       "  <tbody>\n",
       "    <tr>\n",
       "      <th>0</th>\n",
       "      <td>Data Science</td>\n",
       "      <td>2</td>\n",
       "    </tr>\n",
       "    <tr>\n",
       "      <th>1</th>\n",
       "      <td>Machine Learning</td>\n",
       "      <td>3</td>\n",
       "    </tr>\n",
       "    <tr>\n",
       "      <th>2</th>\n",
       "      <td>Big Data</td>\n",
       "      <td>6</td>\n",
       "    </tr>\n",
       "    <tr>\n",
       "      <th>3</th>\n",
       "      <td>Data Engineer</td>\n",
       "      <td>4</td>\n",
       "    </tr>\n",
       "  </tbody>\n",
       "</table>\n",
       "</div>"
      ],
      "text/plain": [
       "        course_name  duration\n",
       "0      Data Science         2\n",
       "1  Machine Learning         3\n",
       "2          Big Data         6\n",
       "3     Data Engineer         4"
      ]
     },
     "execution_count": 8,
     "metadata": {},
     "output_type": "execute_result"
    }
   ],
   "source": [
    "df"
   ]
  },
  {
   "cell_type": "code",
   "execution_count": 9,
   "id": "09283371-dc2e-4525-b353-645613ac5df0",
   "metadata": {},
   "outputs": [
    {
     "data": {
      "text/html": [
       "<div>\n",
       "<style scoped>\n",
       "    .dataframe tbody tr th:only-of-type {\n",
       "        vertical-align: middle;\n",
       "    }\n",
       "\n",
       "    .dataframe tbody tr th {\n",
       "        vertical-align: top;\n",
       "    }\n",
       "\n",
       "    .dataframe thead th {\n",
       "        text-align: right;\n",
       "    }\n",
       "</style>\n",
       "<table border=\"1\" class=\"dataframe\">\n",
       "  <thead>\n",
       "    <tr style=\"text-align: right;\">\n",
       "      <th></th>\n",
       "      <th>course_name</th>\n",
       "      <th>duration</th>\n",
       "    </tr>\n",
       "  </thead>\n",
       "  <tbody>\n",
       "    <tr>\n",
       "      <th>3</th>\n",
       "      <td>Data Engineer</td>\n",
       "      <td>4</td>\n",
       "    </tr>\n",
       "    <tr>\n",
       "      <th>0</th>\n",
       "      <td>Data Science</td>\n",
       "      <td>2</td>\n",
       "    </tr>\n",
       "    <tr>\n",
       "      <th>1</th>\n",
       "      <td>Machine Learning</td>\n",
       "      <td>3</td>\n",
       "    </tr>\n",
       "    <tr>\n",
       "      <th>2</th>\n",
       "      <td>Big Data</td>\n",
       "      <td>6</td>\n",
       "    </tr>\n",
       "  </tbody>\n",
       "</table>\n",
       "</div>"
      ],
      "text/plain": [
       "        course_name  duration\n",
       "3     Data Engineer         4\n",
       "0      Data Science         2\n",
       "1  Machine Learning         3\n",
       "2          Big Data         6"
      ]
     },
     "execution_count": 9,
     "metadata": {},
     "output_type": "execute_result"
    }
   ],
   "source": [
    "df.reindex([3 ,0,1,2])"
   ]
  },
  {
   "cell_type": "code",
   "execution_count": 10,
   "id": "3643be0a-092a-47d7-8c9e-db5a42c365b4",
   "metadata": {},
   "outputs": [],
   "source": [
    "new_df = df.reindex([3 ,0,1,2])"
   ]
  },
  {
   "cell_type": "code",
   "execution_count": 14,
   "id": "479b6b66-b226-4c96-842f-3255d786d58e",
   "metadata": {},
   "outputs": [
    {
     "data": {
      "text/plain": [
       "course_name    Big Data\n",
       "duration              6\n",
       "Name: 2, dtype: object"
      ]
     },
     "execution_count": 14,
     "metadata": {},
     "output_type": "execute_result"
    }
   ],
   "source": [
    "new_df.loc[2]"
   ]
  },
  {
   "cell_type": "code",
   "execution_count": 12,
   "id": "ec0ae8fa-e3c2-46cc-9a18-4f69d61a9817",
   "metadata": {},
   "outputs": [
    {
     "data": {
      "text/plain": [
       "course_name    Machine Learning\n",
       "duration                      3\n",
       "Name: 1, dtype: object"
      ]
     },
     "execution_count": 12,
     "metadata": {},
     "output_type": "execute_result"
    }
   ],
   "source": [
    "new_df.iloc[2]"
   ]
  },
  {
   "cell_type": "markdown",
   "id": "066ac29a-b24e-4b3f-8eb4-1d13c1639049",
   "metadata": {},
   "source": [
    "### .loc function is taking data from index which is numerically equals to 2  and .iloc is taking data from index number 2 which is by default index "
   ]
  },
  {
   "cell_type": "code",
   "execution_count": 15,
   "id": "7113d566-fd74-4f6e-9df3-f79739feee01",
   "metadata": {},
   "outputs": [],
   "source": [
    "### ANS 4"
   ]
  },
  {
   "cell_type": "code",
   "execution_count": 16,
   "id": "cc08c945-f4a2-4008-aed2-18955f95d882",
   "metadata": {},
   "outputs": [],
   "source": [
    "import pandas as pd\n",
    "\n",
    "import numpy as np\n",
    "\n",
    "columns = ['column_1', 'column_2', 'column_3', 'column_4', 'column_5', 'column_6']\n",
    "\n",
    "indices = [1,2,3,4,5,6]\n",
    "\n",
    "#Creating a dataframe:\n",
    "\n",
    "df1 = pd.DataFrame(np.random.rand(6,6), columns = columns, index = indices)"
   ]
  },
  {
   "cell_type": "code",
   "execution_count": 17,
   "id": "9c87d601-8d6f-4236-8ded-792f3ea20f36",
   "metadata": {},
   "outputs": [
    {
     "data": {
      "text/html": [
       "<div>\n",
       "<style scoped>\n",
       "    .dataframe tbody tr th:only-of-type {\n",
       "        vertical-align: middle;\n",
       "    }\n",
       "\n",
       "    .dataframe tbody tr th {\n",
       "        vertical-align: top;\n",
       "    }\n",
       "\n",
       "    .dataframe thead th {\n",
       "        text-align: right;\n",
       "    }\n",
       "</style>\n",
       "<table border=\"1\" class=\"dataframe\">\n",
       "  <thead>\n",
       "    <tr style=\"text-align: right;\">\n",
       "      <th></th>\n",
       "      <th>column_1</th>\n",
       "      <th>column_2</th>\n",
       "      <th>column_3</th>\n",
       "      <th>column_4</th>\n",
       "      <th>column_5</th>\n",
       "      <th>column_6</th>\n",
       "    </tr>\n",
       "  </thead>\n",
       "  <tbody>\n",
       "    <tr>\n",
       "      <th>1</th>\n",
       "      <td>0.177780</td>\n",
       "      <td>0.232329</td>\n",
       "      <td>0.267362</td>\n",
       "      <td>0.014499</td>\n",
       "      <td>0.503341</td>\n",
       "      <td>0.547882</td>\n",
       "    </tr>\n",
       "    <tr>\n",
       "      <th>2</th>\n",
       "      <td>0.355954</td>\n",
       "      <td>0.431274</td>\n",
       "      <td>0.364518</td>\n",
       "      <td>0.770638</td>\n",
       "      <td>0.613298</td>\n",
       "      <td>0.779375</td>\n",
       "    </tr>\n",
       "    <tr>\n",
       "      <th>3</th>\n",
       "      <td>0.077544</td>\n",
       "      <td>0.810932</td>\n",
       "      <td>0.422003</td>\n",
       "      <td>0.391203</td>\n",
       "      <td>0.171479</td>\n",
       "      <td>0.542280</td>\n",
       "    </tr>\n",
       "    <tr>\n",
       "      <th>4</th>\n",
       "      <td>0.116093</td>\n",
       "      <td>0.615508</td>\n",
       "      <td>0.872394</td>\n",
       "      <td>0.259055</td>\n",
       "      <td>0.303539</td>\n",
       "      <td>0.038376</td>\n",
       "    </tr>\n",
       "    <tr>\n",
       "      <th>5</th>\n",
       "      <td>0.727455</td>\n",
       "      <td>0.636568</td>\n",
       "      <td>0.168986</td>\n",
       "      <td>0.462512</td>\n",
       "      <td>0.340818</td>\n",
       "      <td>0.987977</td>\n",
       "    </tr>\n",
       "    <tr>\n",
       "      <th>6</th>\n",
       "      <td>0.568744</td>\n",
       "      <td>0.927214</td>\n",
       "      <td>0.450428</td>\n",
       "      <td>0.708840</td>\n",
       "      <td>0.015777</td>\n",
       "      <td>0.558937</td>\n",
       "    </tr>\n",
       "  </tbody>\n",
       "</table>\n",
       "</div>"
      ],
      "text/plain": [
       "   column_1  column_2  column_3  column_4  column_5  column_6\n",
       "1  0.177780  0.232329  0.267362  0.014499  0.503341  0.547882\n",
       "2  0.355954  0.431274  0.364518  0.770638  0.613298  0.779375\n",
       "3  0.077544  0.810932  0.422003  0.391203  0.171479  0.542280\n",
       "4  0.116093  0.615508  0.872394  0.259055  0.303539  0.038376\n",
       "5  0.727455  0.636568  0.168986  0.462512  0.340818  0.987977\n",
       "6  0.568744  0.927214  0.450428  0.708840  0.015777  0.558937"
      ]
     },
     "execution_count": 17,
     "metadata": {},
     "output_type": "execute_result"
    }
   ],
   "source": [
    "df1"
   ]
  },
  {
   "cell_type": "code",
   "execution_count": 25,
   "id": "a6bad31b-5697-418b-ae93-f84e92e3a94c",
   "metadata": {},
   "outputs": [
    {
     "data": {
      "text/plain": [
       "column_1    0.337262\n",
       "column_2    0.608971\n",
       "column_3    0.424282\n",
       "column_4    0.434458\n",
       "column_5    0.324709\n",
       "column_6    0.575804\n",
       "dtype: float64"
      ]
     },
     "execution_count": 25,
     "metadata": {},
     "output_type": "execute_result"
    }
   ],
   "source": [
    "df1.mean()"
   ]
  },
  {
   "cell_type": "code",
   "execution_count": 29,
   "id": "0c71e5e9-9386-4b19-a747-806f193a4e4b",
   "metadata": {},
   "outputs": [
    {
     "data": {
      "text/plain": [
       "0.25151808117912183"
      ]
     },
     "execution_count": 29,
     "metadata": {},
     "output_type": "execute_result"
    }
   ],
   "source": [
    "df1['column_2'].std()"
   ]
  },
  {
   "cell_type": "markdown",
   "id": "a0463d33-2765-4b59-8e8f-10f53697f732",
   "metadata": {},
   "source": [
    "### ANS 5"
   ]
  },
  {
   "cell_type": "code",
   "execution_count": 30,
   "id": "72ea84de-6151-464c-a850-7e5875772121",
   "metadata": {},
   "outputs": [
    {
     "data": {
      "text/plain": [
       "1    0.232329\n",
       "2    0.431274\n",
       "3    0.810932\n",
       "4    0.615508\n",
       "5    0.636568\n",
       "6    0.927214\n",
       "Name: column_2, dtype: float64"
      ]
     },
     "execution_count": 30,
     "metadata": {},
     "output_type": "execute_result"
    }
   ],
   "source": [
    "df1['column_2']"
   ]
  },
  {
   "cell_type": "code",
   "execution_count": 54,
   "id": "3d28d073-b35c-4155-b27b-927f1b58fb2a",
   "metadata": {},
   "outputs": [],
   "source": [
    "column_2 = [ 0.116093 , 0.615508 , 0.872394 , 0.259055 , 0.303539 , 0.038376 ]"
   ]
  },
  {
   "cell_type": "code",
   "execution_count": 60,
   "id": "ad09adc3-9cf1-466d-a9f8-4409df8d1b63",
   "metadata": {},
   "outputs": [
    {
     "data": {
      "text/plain": [
       "1    0.232329\n",
       "2    0.431274\n",
       "3    0.810932\n",
       "4    0.615508\n",
       "5    0.636568\n",
       "6    0.927214\n",
       "Name: column_2, dtype: float64"
      ]
     },
     "execution_count": 60,
     "metadata": {},
     "output_type": "execute_result"
    }
   ],
   "source": [
    "df1['column_2']"
   ]
  },
  {
   "cell_type": "code",
   "execution_count": 75,
   "id": "9c55ff6c-87d0-4d15-b810-e27821a80552",
   "metadata": {},
   "outputs": [
    {
     "data": {
      "text/plain": [
       "0.6099046852949863"
      ]
     },
     "execution_count": 75,
     "metadata": {},
     "output_type": "execute_result"
    }
   ],
   "source": [
    "df1['column_2'].mean()"
   ]
  },
  {
   "cell_type": "markdown",
   "id": "a3a7b041-65f3-4913-8b24-004535bf504c",
   "metadata": {},
   "source": [
    "### now we assign new value to column_2 "
   ]
  },
  {
   "cell_type": "code",
   "execution_count": 80,
   "id": "34fc74d5-32ae-46a2-9a5c-bfe975cfa4f7",
   "metadata": {},
   "outputs": [],
   "source": [
    "column_2 = [ 0.116093 , 0.615508 , 0.872394 , 0.259055 , 0.303539 , 0.038376 ]"
   ]
  },
  {
   "cell_type": "code",
   "execution_count": 87,
   "id": "e7489360-1989-4dd1-b1c4-667c28bd531f",
   "metadata": {},
   "outputs": [],
   "source": [
    "#.loc will take values which is named as column_2 \n",
    "\n",
    "df1.loc['column_2'] = [ 0.116093 , 0.615508 , 0.872394 , 0.259055 , 0.303539 , 0.038376 ]"
   ]
  },
  {
   "cell_type": "code",
   "execution_count": 88,
   "id": "2d3f2f65-d379-4233-8867-0e0fd6536bd0",
   "metadata": {},
   "outputs": [
    {
     "data": {
      "text/plain": [
       "column_1    0.116093\n",
       "column_2    0.615508\n",
       "column_3    0.872394\n",
       "column_4    0.259055\n",
       "column_5    0.303539\n",
       "column_6    0.038376\n",
       "Name: column_2, dtype: float64"
      ]
     },
     "execution_count": 88,
     "metadata": {},
     "output_type": "execute_result"
    }
   ],
   "source": [
    "df1.loc['column_2'] "
   ]
  },
  {
   "cell_type": "code",
   "execution_count": 89,
   "id": "df370c11-1f04-475d-80a4-ca3baa5f73f6",
   "metadata": {},
   "outputs": [
    {
     "data": {
      "text/plain": [
       "0.3674941666666667"
      ]
     },
     "execution_count": 89,
     "metadata": {},
     "output_type": "execute_result"
    }
   ],
   "source": [
    "df1.loc['column_2'].mean()"
   ]
  },
  {
   "cell_type": "markdown",
   "id": "8c8a6418-0f0f-4dc5-aee4-2d683d4aec27",
   "metadata": {},
   "source": [
    "### ANS 6"
   ]
  },
  {
   "cell_type": "markdown",
   "id": "d36dd93c-0cd4-4815-a2af-3dfcd446588f",
   "metadata": {},
   "source": [
    "#The window functions in Pandas are used to perform some sort of calculations across a set of rows that are interrelated \n",
    " with the current row . The windows functions help us to perform the aggregated calculations across various partitions or cross-sections of the data.\n",
    " \n",
    "Windows function in Pandas can be broadly divided into three categories namely- Aggregate, Ranking, and Value.\n",
    "The Aggregate category of window functions can be of three types namely-\n",
    "\n",
    "Group,\n",
    "Rolling, and\n",
    "Expanding.\n",
    "The Ranking category of window functions can be of five types namely-\n",
    "\n",
    "Row Numbers,\n",
    "Row numbers if of two types:\n",
    "reset_index()\n",
    "cumcount()\n",
    "Rank,\n",
    "Rank is of four types:\n",
    "default_rank\n",
    "min_rank\n",
    "NA_bottom\n",
    "descending\n",
    "Dense rank,\n",
    "Percent, and\n",
    "N-Tile / qcut().\n",
    "The Value category of window functions can be of two types namely-\n",
    "\n",
    "Lag / Lead, and\n",
    "First / Last/nth."
   ]
  },
  {
   "cell_type": "markdown",
   "id": "1b9e98c9-1c2c-4bdb-83dc-a879e973ba16",
   "metadata": {},
   "source": [
    "### ANS 7"
   ]
  },
  {
   "cell_type": "code",
   "execution_count": 103,
   "id": "9c34a579-6106-41f6-8e2b-dbd0eb06553b",
   "metadata": {},
   "outputs": [
    {
     "name": "stdout",
     "output_type": "stream",
     "text": [
      "Current Month : 3\n",
      "Current Year : 2023\n"
     ]
    },
    {
     "name": "stderr",
     "output_type": "stream",
     "text": [
      "/tmp/ipykernel_189/1426660050.py:1: FutureWarning: The pandas.datetime class is deprecated and will be removed from pandas in a future version. Import from datetime module instead.\n",
      "  pd.datetime.now()\n"
     ]
    }
   ],
   "source": [
    "pd.datetime.now()\n",
    "print(\"Current Month :\", today.month)\n",
    "print(\"Current Year :\", today.year)"
   ]
  },
  {
   "cell_type": "markdown",
   "id": "6da5b7a9-a02c-4d34-979e-e4755e67a603",
   "metadata": {},
   "source": [
    "### ANS 8"
   ]
  },
  {
   "cell_type": "markdown",
   "id": "c559a4db-8993-4826-b339-24ee91b962a8",
   "metadata": {},
   "source": [
    "### ANS 8"
   ]
  },
  {
   "cell_type": "code",
   "execution_count": 16,
   "id": "0ae2fb50-c6d0-4e66-92a0-f3268f84162f",
   "metadata": {},
   "outputs": [
    {
     "name": "stdin",
     "output_type": "stream",
     "text": [
      "Enter the date YYYY-MM-DD:  2023-03-25\n",
      "Enter the date YYYY-MM-DD:  2023-03-27\n"
     ]
    },
    {
     "name": "stdout",
     "output_type": "stream",
     "text": [
      "2 days 01:20:00\n"
     ]
    }
   ],
   "source": [
    "import pandas as pd\n",
    "\n",
    "date1 = pd.to_datetime(input(\"Enter the date YYYY-MM-DD: \"))\n",
    "date2 = pd.to_datetime(input(\"Enter the date YYYY-MM-DD: \"))\n",
    "\n",
    "date_diff = pd.Timedelta(\"{hours} hours {minutes} minutes\".format(hours=7, minutes=15)) - pd.Timedelta(\"{hours} hours {minutes} minutes\".format(hours=5, minutes=55)) + pd.Timedelta(date2 - date1)\n",
    "\n",
    "print(date_diff)"
   ]
  },
  {
   "cell_type": "markdown",
   "id": "1b5e1166-3363-444b-810c-c7242cdd520c",
   "metadata": {},
   "source": [
    "### ANS 11"
   ]
  },
  {
   "cell_type": "code",
   "execution_count": 1,
   "id": "bfbcfbc7-c6c1-4f63-8456-b29bd80dd80b",
   "metadata": {},
   "outputs": [
    {
     "name": "stdin",
     "output_type": "stream",
     "text": [
      "Enter a file path:  C:\\Users\\hp\\Desktop\\PW\\student.csv\n"
     ]
    },
    {
     "name": "stdout",
     "output_type": "stream",
     "text": [
      "C:\\Users\\hp\\Desktop\\PW\\student.csv\n"
     ]
    },
    {
     "data": {
      "text/html": [
       "<div>\n",
       "<style scoped>\n",
       "    .dataframe tbody tr th:only-of-type {\n",
       "        vertical-align: middle;\n",
       "    }\n",
       "\n",
       "    .dataframe tbody tr th {\n",
       "        vertical-align: top;\n",
       "    }\n",
       "\n",
       "    .dataframe thead th {\n",
       "        text-align: right;\n",
       "    }\n",
       "</style>\n",
       "<table border=\"1\" class=\"dataframe\">\n",
       "  <thead>\n",
       "    <tr style=\"text-align: right;\">\n",
       "      <th></th>\n",
       "      <th>STUDENT ID</th>\n",
       "      <th>TEST SCORE</th>\n",
       "    </tr>\n",
       "  </thead>\n",
       "  <tbody>\n",
       "    <tr>\n",
       "      <th>0</th>\n",
       "      <td>1</td>\n",
       "      <td>85</td>\n",
       "    </tr>\n",
       "    <tr>\n",
       "      <th>1</th>\n",
       "      <td>2</td>\n",
       "      <td>90</td>\n",
       "    </tr>\n",
       "    <tr>\n",
       "      <th>2</th>\n",
       "      <td>3</td>\n",
       "      <td>80</td>\n",
       "    </tr>\n",
       "    <tr>\n",
       "      <th>3</th>\n",
       "      <td>4</td>\n",
       "      <td>75</td>\n",
       "    </tr>\n",
       "    <tr>\n",
       "      <th>4</th>\n",
       "      <td>5</td>\n",
       "      <td>85</td>\n",
       "    </tr>\n",
       "    <tr>\n",
       "      <th>5</th>\n",
       "      <td>6</td>\n",
       "      <td>82</td>\n",
       "    </tr>\n",
       "    <tr>\n",
       "      <th>6</th>\n",
       "      <td>7</td>\n",
       "      <td>78</td>\n",
       "    </tr>\n",
       "    <tr>\n",
       "      <th>7</th>\n",
       "      <td>8</td>\n",
       "      <td>85</td>\n",
       "    </tr>\n",
       "    <tr>\n",
       "      <th>8</th>\n",
       "      <td>9</td>\n",
       "      <td>90</td>\n",
       "    </tr>\n",
       "    <tr>\n",
       "      <th>9</th>\n",
       "      <td>10</td>\n",
       "      <td>85</td>\n",
       "    </tr>\n",
       "  </tbody>\n",
       "</table>\n",
       "</div>"
      ],
      "text/plain": [
       "   STUDENT ID  TEST SCORE\n",
       "0           1          85\n",
       "1           2          90\n",
       "2           3          80\n",
       "3           4          75\n",
       "4           5          85\n",
       "5           6          82\n",
       "6           7          78\n",
       "7           8          85\n",
       "8           9          90\n",
       "9          10          85"
      ]
     },
     "execution_count": 1,
     "metadata": {},
     "output_type": "execute_result"
    }
   ],
   "source": [
    "import pandas as pd\n",
    "file_path = input('Enter a file path: ')\n",
    "print(file_path)\n",
    "pd.read_csv('student.csv')\n"
   ]
  },
  {
   "cell_type": "code",
   "execution_count": 2,
   "id": "c2670a35-8993-4eb1-9090-e42886cc863f",
   "metadata": {},
   "outputs": [],
   "source": [
    "df = pd.read_csv('student.csv')"
   ]
  },
  {
   "cell_type": "code",
   "execution_count": 3,
   "id": "8dd74344-6d47-44c9-8292-92f4b0c1f7ed",
   "metadata": {},
   "outputs": [
    {
     "data": {
      "text/plain": [
       "83.5"
      ]
     },
     "execution_count": 3,
     "metadata": {},
     "output_type": "execute_result"
    }
   ],
   "source": [
    "df['TEST SCORE'].mean()\n"
   ]
  },
  {
   "cell_type": "code",
   "execution_count": 4,
   "id": "9ee4aaad-5643-4240-8a9c-bfb4da1afe37",
   "metadata": {},
   "outputs": [
    {
     "data": {
      "text/plain": [
       "85.0"
      ]
     },
     "execution_count": 4,
     "metadata": {},
     "output_type": "execute_result"
    }
   ],
   "source": [
    "\n",
    "df['TEST SCORE'].median()"
   ]
  },
  {
   "cell_type": "code",
   "execution_count": 5,
   "id": "31c2cf54-d280-46e6-8bc2-745ccdf2db45",
   "metadata": {},
   "outputs": [
    {
     "data": {
      "text/plain": [
       "0    85\n",
       "Name: TEST SCORE, dtype: int64"
      ]
     },
     "execution_count": 5,
     "metadata": {},
     "output_type": "execute_result"
    }
   ],
   "source": [
    "df['TEST SCORE'].mode()"
   ]
  },
  {
   "cell_type": "code",
   "execution_count": 8,
   "id": "265d25e1-63e0-476a-9b64-6881b694352a",
   "metadata": {},
   "outputs": [
    {
     "data": {
      "text/html": [
       "<div>\n",
       "<style scoped>\n",
       "    .dataframe tbody tr th:only-of-type {\n",
       "        vertical-align: middle;\n",
       "    }\n",
       "\n",
       "    .dataframe tbody tr th {\n",
       "        vertical-align: top;\n",
       "    }\n",
       "\n",
       "    .dataframe thead th {\n",
       "        text-align: right;\n",
       "    }\n",
       "</style>\n",
       "<table border=\"1\" class=\"dataframe\">\n",
       "  <thead>\n",
       "    <tr style=\"text-align: right;\">\n",
       "      <th></th>\n",
       "      <th>Mean</th>\n",
       "      <th>Median</th>\n",
       "      <th>Mode</th>\n",
       "    </tr>\n",
       "  </thead>\n",
       "  <tbody>\n",
       "    <tr>\n",
       "      <th>0</th>\n",
       "      <td>83.5</td>\n",
       "      <td>85.0</td>\n",
       "      <td>85</td>\n",
       "    </tr>\n",
       "  </tbody>\n",
       "</table>\n",
       "</div>"
      ],
      "text/plain": [
       "   Mean  Median  Mode\n",
       "0  83.5    85.0    85"
      ]
     },
     "metadata": {},
     "output_type": "display_data"
    }
   ],
   "source": [
    "dict = {'Mean' : df['TEST SCORE'].mean(),\n",
    "        'Median' : df['TEST SCORE'].median(),\n",
    "        'Mode' : df['TEST SCORE'].mode()}\n",
    "df2 = pd.DataFrame(dict)\n",
    "  \n",
    "# displaying the DataFrame\n",
    "display(df2)"
   ]
  },
  {
   "cell_type": "code",
   "execution_count": null,
   "id": "03c0d182-a693-4e37-a0fc-b2573186930a",
   "metadata": {},
   "outputs": [],
   "source": []
  }
 ],
 "metadata": {
  "kernelspec": {
   "display_name": "Python 3 (ipykernel)",
   "language": "python",
   "name": "python3"
  },
  "language_info": {
   "codemirror_mode": {
    "name": "ipython",
    "version": 3
   },
   "file_extension": ".py",
   "mimetype": "text/x-python",
   "name": "python",
   "nbconvert_exporter": "python",
   "pygments_lexer": "ipython3",
   "version": "3.10.8"
  }
 },
 "nbformat": 4,
 "nbformat_minor": 5
}
